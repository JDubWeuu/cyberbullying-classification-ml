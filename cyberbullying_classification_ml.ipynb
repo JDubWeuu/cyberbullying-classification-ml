{
  "nbformat": 4,
  "nbformat_minor": 0,
  "metadata": {
    "colab": {
      "provenance": [],
      "authorship_tag": "ABX9TyOqcAc1IrTm+vpLoehlqwnx",
      "include_colab_link": true
    },
    "kernelspec": {
      "name": "python3",
      "display_name": "Python 3"
    },
    "language_info": {
      "name": "python"
    }
  },
  "cells": [
    {
      "cell_type": "markdown",
      "metadata": {
        "id": "view-in-github",
        "colab_type": "text"
      },
      "source": [
        "<a href=\"https://colab.research.google.com/github/JDubWeuu/cyberbullying-classification-ml/blob/main/cyberbullying_classification_ml.ipynb\" target=\"_parent\"><img src=\"https://colab.research.google.com/assets/colab-badge.svg\" alt=\"Open In Colab\"/></a>"
      ]
    },
    {
      "cell_type": "code",
      "execution_count": null,
      "metadata": {
        "colab": {
          "base_uri": "https://localhost:8080/"
        },
        "id": "fXcrFNPVYCLe",
        "outputId": "885e8edc-1ac0-474b-eea1-a932c9b4ed42"
      },
      "outputs": [
        {
          "output_type": "stream",
          "name": "stderr",
          "text": [
            "[nltk_data] Downloading package stopwords to /root/nltk_data...\n",
            "[nltk_data]   Package stopwords is already up-to-date!\n",
            "[nltk_data] Downloading package wordnet to /root/nltk_data...\n",
            "[nltk_data]   Package wordnet is already up-to-date!\n"
          ]
        }
      ],
      "source": [
        "import pandas as pd\n",
        "import matplotlib.pyplot as plt\n",
        "import tensorflow as tf\n",
        "from tensorflow import keras\n",
        "from keras.preprocessing.text import Tokenizer\n",
        "from keras.preprocessing.sequence import pad_sequences\n",
        "from keras.layers import Embedding, LSTM, Dense, SpatialDropout1D\n",
        "from keras.utils import to_categorical\n",
        "from sklearn.preprocessing import LabelEncoder\n",
        "from sklearn.model_selection import train_test_split\n",
        "import nltk\n",
        "from nltk.corpus import stopwords\n",
        "from sklearn.preprocessing import StandardScaler\n",
        "nltk.download(['stopwords', 'wordnet'])\n",
        "from nltk.tokenize import sent_tokenize, word_tokenize\n",
        "from textblob import Word\n",
        "import string\n",
        "from sklearn.svm import SVC\n",
        "from sklearn.metrics import accuracy_score"
      ]
    },
    {
      "cell_type": "markdown",
      "source": [
        "# Preprocessing the neural net data"
      ],
      "metadata": {
        "id": "OQTuQz5FYM6Z"
      }
    },
    {
      "cell_type": "code",
      "source": [
        "def pre_process(dataframe, stopwords):\n",
        "    df['tweet_text'] = df['tweet_text'].apply(lambda x: ' '.join(x.lower() for x in x.split()))\n",
        "    df['tweet_text'] = df['tweet_text'].apply(lambda x: ' '.join(x if not x.isdigit() else '' for x in x.split()))\n",
        "    df['tweet_text'] = df['tweet_text'].apply(lambda x: ' '.join(x for x in x.split() if x not in stopwords))\n",
        "    df['tweet_text'] = df['tweet_text'].apply(lambda x: ' '.join([Word(x).lemmatize() for x in x.split()]))\n",
        "    df['tweet_text'] = df['tweet_text'].apply(lambda x: ' '.join(x if not x.startswith('@') else '@USERNAME' for x in x.split()))\n",
        "    df['tweet_text'] = df['tweet_text'].apply(lambda x: ''.join(char for char in x if char == '#' or char not in string.punctuation))\n",
        "\n",
        "    return df"
      ],
      "metadata": {
        "id": "nPSckvDiYIqb"
      },
      "execution_count": null,
      "outputs": []
    },
    {
      "cell_type": "code",
      "source": [
        "stop_words = stopwords.words('english')\n",
        "df = pd.read_csv('cyberbullying_tweets.csv')\n",
        "df = pre_process(df, stop_words)"
      ],
      "metadata": {
        "id": "DbzhUWPZYQ13"
      },
      "execution_count": null,
      "outputs": []
    },
    {
      "cell_type": "markdown",
      "source": [
        "# Tokenizer and padded sequence"
      ],
      "metadata": {
        "id": "KvtUExvdYpwJ"
      }
    },
    {
      "cell_type": "code",
      "source": [
        "tokenizer = Tokenizer(num_words=10000, split=' ')\n",
        "tokenizer.fit_on_texts(df['tweet_text'].values)\n",
        "\n",
        "sequences = tokenizer.texts_to_sequences(df['tweet_text'].values)\n",
        "padded_sequences = pad_sequences(sequences)\n",
        "\n",
        "encoder = LabelEncoder()\n",
        "df['cyberbullying_type'] = encoder.fit_transform(df['cyberbullying_type'])\n",
        "labels = df['cyberbullying_type']"
      ],
      "metadata": {
        "id": "hKmQkqRuYuJw"
      },
      "execution_count": null,
      "outputs": []
    },
    {
      "cell_type": "code",
      "source": [
        "X_train, X_test, Y_train, Y_test = train_test_split(padded_sequences, labels, test_size=0.2, random_state=42)"
      ],
      "metadata": {
        "id": "Y0GoIFmQYxCV"
      },
      "execution_count": null,
      "outputs": []
    },
    {
      "cell_type": "markdown",
      "source": [
        "# SVM implementation"
      ],
      "metadata": {
        "id": "AA5qo-JestFm"
      }
    },
    {
      "cell_type": "code",
      "source": [
        "sc = StandardScaler()\n",
        "X_train = sc.fit_transform(X_train)\n",
        "X_test = sc.transform(X_test)\n",
        "svm_classifier = SVC(kernel='rbf', C=1.0, gamma='auto', probability=False)\n",
        "svm_classifier.fit(X_train, Y_train)\n",
        "y_pred = svm_classifier.predict(X_test)\n",
        "accuracy = accuracy_score(Y_test, y_pred)\n",
        "print(f\"Accuracy: {accuracy:.2f}\")"
      ],
      "metadata": {
        "id": "10zZpRtRpwhR"
      },
      "execution_count": null,
      "outputs": []
    },
    {
      "cell_type": "markdown",
      "source": [
        "# LSTM implementation"
      ],
      "metadata": {
        "id": "5NxqEGzTswn2"
      }
    },
    {
      "cell_type": "code",
      "source": [
        "model = tf.keras.Sequential([\n",
        "    Embedding(10000, 128, input_length=padded_sequences.shape[1]),\n",
        "    SpatialDropout1D(0.4),\n",
        "    LSTM(64, dropout=0.2, recurrent_dropout=0.2),\n",
        "    Dense(64, activation='LeakyReLU'),\n",
        "    Dense(6, activation=\"softmax\")\n",
        "])"
      ],
      "metadata": {
        "id": "frsoFH1WYznk"
      },
      "execution_count": null,
      "outputs": []
    },
    {
      "cell_type": "code",
      "source": [
        "train_accuracy_over_time = []\n",
        "train_loss_over_time = []\n",
        "\n",
        "test_accuracy_over_time = []\n",
        "test_loss_over_time = []\n",
        "\n",
        "model.compile(loss = 'sparse_categorical_crossentropy', optimizer='adam', metrics = ['accuracy'])\n",
        "\n",
        "print(model.summary())\n",
        "int i = 0\n",
        "for i in range(10):\n",
        "  model.fit(X_train, Y_train, validation_split=0.1, epochs = 1, batch_size=32, verbose=1)\n",
        "  train_loss, train_acc = model.evaluate(X_train, Y_train, verbose=0)\n",
        "  train_accuracy_over_time.append(train_acc)\n",
        "  train_loss_over_time.append(train_loss)\n",
        "\n",
        "  test_loss, test_acc = model.evaluate(X_test, Y_test, verbose=0)\n",
        "  test_accuracy_over_time.append(test_acc)\n",
        "  test_loss_over_time.append(test_loss)\n",
        "\n",
        "\n",
        "plt.subplot(1, 2, 1)\n",
        "plt.plot(range(1, i+1), train_accuracy_over_time, marker='o', label='Training Accuracy')\n",
        "plt.plot(range(1, epochs+1), test_accuracy_over_time, marker='o', label='Test Accuracy')\n",
        "plt.xlabel('Epoch')\n",
        "plt.ylabel('Accuracy')\n",
        "plt.title('Accuracy Over Time')\n",
        "plt.legend()\n",
        "\n",
        "plt.subplot(1, 2, 2)\n",
        "plt.plot(range(1, i+1), train_loss_over_time, marker='o', label='Training Accuracy')\n",
        "plt.plot(range(1, i+1), test_loss_over_time, marker='o', label='Test Accuracy')\n",
        "plt.xlabel('Epoch')\n",
        "plt.ylabel('Loss')\n",
        "plt.title('Loss Over Time')\n",
        "plt.legend()\n",
        "\n",
        "plt.tight_layout()\n",
        "plt.show()\n",
        "\n",
        "test_loss, test_acc = model.evaluate(X_test, Y_test)\n",
        "print(f'Loss: {test_loss}\\nAccuracy: {test_acc}')"
      ],
      "metadata": {
        "id": "xSaEiUrCY3tT"
      },
      "execution_count": null,
      "outputs": []
    }
  ]
}